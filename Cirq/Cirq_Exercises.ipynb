{
 "cells": [
  {
   "cell_type": "code",
   "execution_count": 5,
   "id": "84d72889",
   "metadata": {},
   "outputs": [],
   "source": [
    "import cirq\n",
    "import matplotlib.pyplot as plt\n",
    "import numpy as np"
   ]
  },
  {
   "cell_type": "code",
   "execution_count": 6,
   "id": "d5004477",
   "metadata": {},
   "outputs": [
    {
     "name": "stdout",
     "output_type": "stream",
     "text": [
      "                                             (0, 5)────(0, 6)\n",
      "                                             │         │\n",
      "                                             │         │\n",
      "                                    (1, 4)───(1, 5)────(1, 6)────(1, 7)\n",
      "                                    │        │         │         │\n",
      "                                    │        │         │         │\n",
      "                           (2, 3)───(2, 4)───(2, 5)────(2, 6)────(2, 7)───(2, 8)\n",
      "                           │        │        │         │         │        │\n",
      "                           │        │        │         │         │        │\n",
      "                  (3, 2)───(3, 3)───(3, 4)───(3, 5)────(3, 6)────(3, 7)───(3, 8)───(3, 9)\n",
      "                  │        │        │        │         │         │        │        │\n",
      "                  │        │        │        │         │         │        │        │\n",
      "         (4, 1)───(4, 2)───(4, 3)───(4, 4)───(4, 5)────(4, 6)────(4, 7)───(4, 8)───(4, 9)───(4, 10)\n",
      "         │        │        │        │        │         │         │        │        │        │\n",
      "         │        │        │        │        │         │         │        │        │        │\n",
      "(5, 0)───(5, 1)───(5, 2)───(5, 3)───(5, 4)───(5, 5)────(5, 6)────(5, 7)───(5, 8)───(5, 9)───(5, 10)───(5, 11)\n",
      "         │        │        │        │        │         │         │        │        │        │\n",
      "         │        │        │        │        │         │         │        │        │        │\n",
      "         (6, 1)───(6, 2)───(6, 3)───(6, 4)───(6, 5)────(6, 6)────(6, 7)───(6, 8)───(6, 9)───(6, 10)\n",
      "                  │        │        │        │         │         │        │        │\n",
      "                  │        │        │        │         │         │        │        │\n",
      "                  (7, 2)───(7, 3)───(7, 4)───(7, 5)────(7, 6)────(7, 7)───(7, 8)───(7, 9)\n",
      "                           │        │        │         │         │        │\n",
      "                           │        │        │         │         │        │\n",
      "                           (8, 3)───(8, 4)───(8, 5)────(8, 6)────(8, 7)───(8, 8)\n",
      "                                    │        │         │         │\n",
      "                                    │        │         │         │\n",
      "                                    (9, 4)───(9, 5)────(9, 6)────(9, 7)\n",
      "                                             │         │\n",
      "                                             │         │\n",
      "                                             (10, 5)───(10, 6)\n"
     ]
    },
    {
     "name": "stderr",
     "output_type": "stream",
     "text": [
      "/Users/Aditya/miniconda3/envs/ENV_NAME/lib/python3.6/site-packages/ipykernel_launcher.py:1: DeprecationWarning: cirq.google was used but is deprecated.\n",
      " it will be removed in cirq v0.14.\n",
      " Use cirq_google instead.\n",
      "\n",
      "  \"\"\"Entry point for launching an IPython kernel.\n"
     ]
    }
   ],
   "source": [
    "print(cirq.google.Bristlecone)\n",
    "# This file follows the google examples and is my own solution to the exercises"
   ]
  },
  {
   "cell_type": "code",
   "execution_count": 7,
   "id": "83865703",
   "metadata": {},
   "outputs": [
    {
     "name": "stdout",
     "output_type": "stream",
     "text": [
      "a: ───H───────────\n",
      "\n",
      "b: ───H───@───H───\n",
      "          │\n",
      "c: ───────X───────\n"
     ]
    }
   ],
   "source": [
    "a = cirq.NamedQubit(\"a\")\n",
    "b = cirq.NamedQubit(\"b\")\n",
    "c = cirq.NamedQubit(\"c\")\n",
    "\n",
    "ops = [cirq.H(a), cirq.H(b), cirq.CNOT(b, c), cirq.H(b)]\n",
    "\n",
    "circuit = cirq.Circuit(ops)\n",
    "print(circuit)"
   ]
  },
  {
   "cell_type": "code",
   "execution_count": 8,
   "id": "1d91c6e7",
   "metadata": {},
   "outputs": [
    {
     "name": "stdout",
     "output_type": "stream",
     "text": [
      "          ┌──┐\n",
      "0: ───H─────@────────\n",
      "            │\n",
      "1: ───H────@┼────H───\n",
      "           ││\n",
      "2: ────────X┼────────\n",
      "            │\n",
      "3: ─────────X────────\n",
      "          └──┘\n"
     ]
    }
   ],
   "source": [
    "q0 = cirq.NamedQubit(\"0\")\n",
    "q1 = cirq.NamedQubit(\"1\")\n",
    "q2 = cirq.NamedQubit(\"2\")\n",
    "q3 = cirq.NamedQubit(\"3\")\n",
    "\n",
    "ops = [cirq.H(q0), cirq.H(q1), cirq.CNOT(q1, q2), cirq.CNOT(q0, q3), cirq.H(q1)]\n",
    "\n",
    "circuit = cirq.Circuit(ops)\n",
    "print(circuit)"
   ]
  },
  {
   "cell_type": "code",
   "execution_count": 9,
   "id": "75e93ddb",
   "metadata": {},
   "outputs": [
    {
     "name": "stdout",
     "output_type": "stream",
     "text": [
      "Moment 0: \n",
      "  ╷ None\n",
      "╶─┼──────\n",
      "0 │ H\n",
      "  │\n",
      "1 │ H\n",
      "  │\n",
      "Moment 1: \n",
      "  ╷ None\n",
      "╶─┼──────\n",
      "0 │ @\n",
      "  │ │\n",
      "1 │ @\n",
      "  │ │\n",
      "2 │ X\n",
      "  │ │\n",
      "3 │ X\n",
      "  │\n",
      "Moment 2: \n",
      "  ╷ None\n",
      "╶─┼──────\n",
      "1 │ H\n",
      "  │\n"
     ]
    }
   ],
   "source": [
    "for i, moment in enumerate(circuit):\n",
    "    print('Moment {}: \\n{}'.format(i, moment))"
   ]
  },
  {
   "cell_type": "code",
   "execution_count": 10,
   "id": "2e546e58",
   "metadata": {},
   "outputs": [
    {
     "name": "stdout",
     "output_type": "stream",
     "text": [
      "cirq.Circuit([\n",
      "    cirq.Moment(\n",
      "        cirq.H(cirq.NamedQubit('0')),\n",
      "        cirq.H(cirq.NamedQubit('1')),\n",
      "    ),\n",
      "    cirq.Moment(\n",
      "        cirq.CNOT(cirq.NamedQubit('1'), cirq.NamedQubit('2')),\n",
      "        cirq.CNOT(cirq.NamedQubit('0'), cirq.NamedQubit('3')),\n",
      "    ),\n",
      "    cirq.Moment(\n",
      "        cirq.H(cirq.NamedQubit('1')),\n",
      "    ),\n",
      "])\n"
     ]
    }
   ],
   "source": [
    "print(repr(circuit))"
   ]
  },
  {
   "cell_type": "code",
   "execution_count": 11,
   "id": "7228149d",
   "metadata": {},
   "outputs": [
    {
     "data": {
      "text/html": [
       "<pre style=\"overflow: auto; white-space: pre;\">0: ───@───X───@───\n",
       "      │   │   │\n",
       "1: ───X───@───X───</pre>"
      ],
      "text/plain": [
       "0: ───@───X───@───\n",
       "      │   │   │\n",
       "1: ───X───@───X───"
      ]
     },
     "execution_count": 11,
     "metadata": {},
     "output_type": "execute_result"
    }
   ],
   "source": [
    "def xor_swap(a, b):\n",
    "    yield cirq.CNOT(a, b)\n",
    "    yield cirq.CNOT(b, a)\n",
    "    yield cirq.CNOT(a, b)\n",
    "\n",
    "cirq.Circuit(xor_swap(q0, q1))"
   ]
  },
  {
   "cell_type": "code",
   "execution_count": 15,
   "id": "e572c669",
   "metadata": {},
   "outputs": [
    {
     "name": "stdout",
     "output_type": "stream",
     "text": [
      "0: ───@───X───@───────────────@───────────────────────\n",
      "      │   │   │               │\n",
      "1: ───X───@───X───@───X───@───@───────────────────────\n",
      "                  │   │   │\n",
      "2: ───────────────X───@───X───@───X───@───────────────\n",
      "                              │   │   │\n",
      "3: ───────────────────────────X───@───X───@───X───@───\n",
      "                                          │   │   │\n",
      "4: ───────────────────────────────────────X───@───X───\n"
     ]
    }
   ],
   "source": [
    "# left rotate 5 qubits\n",
    "q4 = cirq.NamedQubit(\"4\")\n",
    "\n",
    "ops = [xor_swap(q0, q1), xor_swap(q1, q2), xor_swap(q2, q3), xor_swap(q3, q4)]\n",
    "\n",
    "circuit = cirq.Circuit(ops)\n",
    "print(circuit)"
   ]
  },
  {
   "cell_type": "code",
   "execution_count": 16,
   "id": "590be313",
   "metadata": {},
   "outputs": [
    {
     "name": "stdout",
     "output_type": "stream",
     "text": [
      "0: ───@───H───H───H───\n",
      "      │\n",
      "1: ───@───H───@───────\n",
      "              │\n",
      "2: ───H───────@───H───\n"
     ]
    }
   ],
   "source": [
    "# Another circuit\n",
    "ops = [cirq.CZ(q0, q1), cirq.H(q0), cirq.H(q1), cirq.H(q2), cirq.CZ(q1, q2), cirq.H(q2), cirq.H(q0), cirq.H(q0)]\n",
    "\n",
    "circuit = cirq.Circuit(ops)\n",
    "print(circuit)"
   ]
  },
  {
   "cell_type": "code",
   "execution_count": 18,
   "id": "469aac29",
   "metadata": {},
   "outputs": [
    {
     "name": "stdout",
     "output_type": "stream",
     "text": [
      "a: ───X^0.5───@───X^0.5───M───\n",
      "              │           │\n",
      "b: ───X^0.5───@───X^0.5───M───\n"
     ]
    }
   ],
   "source": [
    "# Simulations of Circuit\n",
    "def basic_circuit(measure=True):\n",
    "    sqrt_x = cirq.X**0.5\n",
    "    cz = cirq.CZ\n",
    "    \n",
    "    yield sqrt_x(a), sqrt_x(b)\n",
    "    yield cz(a, b)\n",
    "    yield sqrt_x(a), sqrt_x(b)\n",
    "    if measure:\n",
    "        yield cirq.measure(a, b)\n",
    "\n",
    "circuit = cirq.Circuit(basic_circuit())\n",
    "print(circuit)"
   ]
  },
  {
   "cell_type": "code",
   "execution_count": 20,
   "id": "bc2f8114",
   "metadata": {},
   "outputs": [
    {
     "name": "stdout",
     "output_type": "stream",
     "text": [
      "a,b=0, 0\n"
     ]
    }
   ],
   "source": [
    "# Just Provides the output\n",
    "simulator = cirq.Simulator()\n",
    "\n",
    "result = simulator.run(circuit, repetitions=1)\n",
    "print(result)"
   ]
  },
  {
   "cell_type": "code",
   "execution_count": 26,
   "id": "37ed2723",
   "metadata": {},
   "outputs": [
    {
     "name": "stdout",
     "output_type": "stream",
     "text": [
      "[0.5+0.j  0. +0.5j 0. +0.5j 0.5+0.j ]\n",
      "0.5|00⟩ + 0.5j|01⟩ + 0.5j|10⟩ + 0.5|11⟩\n"
     ]
    }
   ],
   "source": [
    "# Simulate the Circuit\n",
    "circuit = cirq.Circuit(basic_circuit(measure=False))\n",
    "\n",
    "result = simulator.simulate(circuit, qubit_order=[a, b])\n",
    "print(np.around(result.final_state_vector, 3))\n",
    "print(result.dirac_notation())"
   ]
  },
  {
   "cell_type": "code",
   "execution_count": 27,
   "id": "3e5274f5",
   "metadata": {},
   "outputs": [
    {
     "name": "stdout",
     "output_type": "stream",
     "text": [
      "Counter({1: 26, 2: 25, 0: 25, 3: 24})\n"
     ]
    }
   ],
   "source": [
    "circuit = cirq.Circuit(basic_circuit())\n",
    "\n",
    "result = simulator.run(circuit, repetitions=100)\n",
    "\n",
    "print(result.histogram(key=\"a,b\"))"
   ]
  },
  {
   "cell_type": "code",
   "execution_count": null,
   "id": "c86abec1",
   "metadata": {},
   "outputs": [],
   "source": []
  }
 ],
 "metadata": {
  "kernelspec": {
   "display_name": "Python 3",
   "language": "python",
   "name": "python3"
  },
  "language_info": {
   "codemirror_mode": {
    "name": "ipython",
    "version": 3
   },
   "file_extension": ".py",
   "mimetype": "text/x-python",
   "name": "python",
   "nbconvert_exporter": "python",
   "pygments_lexer": "ipython3",
   "version": "3.6.13"
  }
 },
 "nbformat": 4,
 "nbformat_minor": 5
}
