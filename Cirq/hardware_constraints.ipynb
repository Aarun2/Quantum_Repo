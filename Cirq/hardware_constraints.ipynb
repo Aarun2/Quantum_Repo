{
 "cells": [
  {
   "cell_type": "code",
   "execution_count": 1,
   "id": "c1ae2af4",
   "metadata": {},
   "outputs": [],
   "source": [
    "import cirq"
   ]
  },
  {
   "cell_type": "code",
   "execution_count": 2,
   "id": "029507f4",
   "metadata": {},
   "outputs": [
    {
     "name": "stdout",
     "output_type": "stream",
     "text": [
      "(5, 5): ───@───────\n",
      "           │\n",
      "(5, 6): ───@───────\n",
      "\n",
      "(6, 5): ───────@───\n",
      "               │\n",
      "(6, 6): ───────@───\n"
     ]
    },
    {
     "name": "stderr",
     "output_type": "stream",
     "text": [
      "/var/folders/9_/z9c5t97d2mjfpjbp5_5gz7hw0000gp/T/ipykernel_56726/1019940255.py:1: DeprecationWarning: cirq.google was used but is deprecated.\n",
      " it will be removed in cirq v0.14.\n",
      " Use cirq_google instead.\n",
      "\n",
      "  device = cirq.google.Bristlecone\n"
     ]
    }
   ],
   "source": [
    "device = cirq.google.Bristlecone\n",
    "circuit = cirq.Circuit(device=device)\n",
    "a0, a1 = cirq.GridQubit(5, 5), cirq.GridQubit(5, 6)\n",
    "b0, b1 = cirq.GridQubit(6, 5), cirq.GridQubit(6, 6)\n",
    "circuit.append([cirq.CZ(a0, a1), cirq.CZ(b0, b1)])\n",
    "print(circuit)\n",
    "\n"
   ]
  },
  {
   "cell_type": "code",
   "execution_count": null,
   "id": "ff76274c",
   "metadata": {},
   "outputs": [],
   "source": []
  }
 ],
 "metadata": {
  "kernelspec": {
   "display_name": "Python 3 (ipykernel)",
   "language": "python",
   "name": "python3"
  },
  "language_info": {
   "codemirror_mode": {
    "name": "ipython",
    "version": 3
   },
   "file_extension": ".py",
   "mimetype": "text/x-python",
   "name": "python",
   "nbconvert_exporter": "python",
   "pygments_lexer": "ipython3",
   "version": "3.9.6"
  }
 },
 "nbformat": 4,
 "nbformat_minor": 5
}
